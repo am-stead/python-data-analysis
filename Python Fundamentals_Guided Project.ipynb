{
 "cells": [
  {
   "cell_type": "markdown",
   "metadata": {},
   "source": [
    "# Profitable App Profiles for the App Store and Google Play Markets\n",
    "\n",
    "For free mobile device applications, such as those offered by the App Store and Google Play, the main source of revenue comes from in-app advertising. The amount of users downloading and using the app is therefore important, since more users means more potential revenue.  \n",
    "\n",
    "The project uses the two different data sets to perform an analysis that will help us better understand which apps are likely to attract more users. \n",
    "\n",
    "The two data sets are:\n",
    "- A data set of approximately 7000 iOS mobile device application from the App Store, which can be downloaded [here](https://dq-content.s3.amazonaws.com/350/AppleStore.csv). \n",
    "- A data set of appoximately 10000 Android mobile device application from Google Play, available for download [here](https://dq-content.s3.amazonaws.com/350/googleplaystore.csv).\n",
    "\n",
    "  "
   ]
  },
  {
   "cell_type": "markdown",
   "metadata": {},
   "source": [
    "## Opening and Exploring the Data \n",
    "\n",
    "The below code opens the two datasets and converts both the Apple dataset and Android dataset into a list of lists. \n",
    "\n",
    "It creates for each:\n",
    "* a header-only dataset, which lists only the column names (`apple_header` / `google_header`)\n",
    "* and a content-only dataset (`apple_data` / `google_data`). \n",
    "\n"
   ]
  },
  {
   "cell_type": "code",
   "execution_count": 2,
   "metadata": {},
   "outputs": [],
   "source": [
    "from csv import reader\n",
    "\n",
    "## Apple Store Data Set ##\n",
    "opened_file = open('AppleStore.csv')\n",
    "read_file = reader(opened_file)\n",
    "apple_data = list(read_file)\n",
    "apple_header = apple_data[0]\n",
    "apple_data = apple_data[1:]\n",
    "\n",
    "## Google Play Data Set ##\n",
    "opened_file = open('googleplaystore.csv')\n",
    "read_file = reader(opened_file)\n",
    "google_data = list(read_file)\n",
    "google_header = google_data[0]\n",
    "google_data = google_data[1:]\n",
    "\n",
    "\n"
   ]
  },
  {
   "cell_type": "markdown",
   "metadata": {},
   "source": [
    "The following function allows us to explore more fully the two datasets. The function takes as input a dataset name, start-end indices that represent slice of the dataset you want to see, and allows you to specify whether to display number of rows and columns.    "
   ]
  },
  {
   "cell_type": "code",
   "execution_count": 3,
   "metadata": {},
   "outputs": [],
   "source": [
    "def explore_data(dataset, start, end, rows_and_columns=False):\n",
    "    dataset_slice = dataset[start:end]    \n",
    "    for row in dataset_slice:\n",
    "        print(row)\n",
    "        print('\\n') # adds a new (empty) line after each row\n",
    "\n",
    "    if rows_and_columns:\n",
    "        print('Number of rows:', len(dataset))\n",
    "        print('Number of columns:', len(dataset[0]))"
   ]
  },
  {
   "cell_type": "markdown",
   "metadata": {},
   "source": [
    "Here, I am using the `explore_data` function to examine, first, part of the `apple_data` dataset, and following that, part of the `google_data` dataset."
   ]
  },
  {
   "cell_type": "code",
   "execution_count": 4,
   "metadata": {},
   "outputs": [
    {
     "name": "stdout",
     "output_type": "stream",
     "text": [
      "['284882215', 'Facebook', '389879808', 'USD', '0.0', '2974676', '212', '3.5', '3.5', '95.0', '4+', 'Social Networking', '37', '1', '29', '1']\n",
      "\n",
      "\n",
      "['389801252', 'Instagram', '113954816', 'USD', '0.0', '2161558', '1289', '4.5', '4.0', '10.23', '12+', 'Photo & Video', '37', '0', '29', '1']\n",
      "\n",
      "\n",
      "['529479190', 'Clash of Clans', '116476928', 'USD', '0.0', '2130805', '579', '4.5', '4.5', '9.24.12', '9+', 'Games', '38', '5', '18', '1']\n",
      "\n",
      "\n",
      "['420009108', 'Temple Run', '65921024', 'USD', '0.0', '1724546', '3842', '4.5', '4.0', '1.6.2', '9+', 'Games', '40', '5', '1', '1']\n",
      "\n",
      "\n",
      "['284035177', 'Pandora - Music & Radio', '130242560', 'USD', '0.0', '1126879', '3594', '4.0', '4.5', '8.4.1', '12+', 'Music', '37', '4', '1', '1']\n",
      "\n",
      "\n",
      "Number of rows: 7197\n",
      "Number of columns: 16\n"
     ]
    }
   ],
   "source": [
    "explore_data(apple_data,0,5,True)\n",
    "\n",
    "\n",
    "\n",
    "\n"
   ]
  },
  {
   "cell_type": "code",
   "execution_count": 5,
   "metadata": {},
   "outputs": [
    {
     "name": "stdout",
     "output_type": "stream",
     "text": [
      "['Photo Editor & Candy Camera & Grid & ScrapBook', 'ART_AND_DESIGN', '4.1', '159', '19M', '10,000+', 'Free', '0', 'Everyone', 'Art & Design', 'January 7, 2018', '1.0.0', '4.0.3 and up']\n",
      "\n",
      "\n",
      "['Coloring book moana', 'ART_AND_DESIGN', '3.9', '967', '14M', '500,000+', 'Free', '0', 'Everyone', 'Art & Design;Pretend Play', 'January 15, 2018', '2.0.0', '4.0.3 and up']\n",
      "\n",
      "\n",
      "['U Launcher Lite – FREE Live Cool Themes, Hide Apps', 'ART_AND_DESIGN', '4.7', '87510', '8.7M', '5,000,000+', 'Free', '0', 'Everyone', 'Art & Design', 'August 1, 2018', '1.2.4', '4.0.3 and up']\n",
      "\n",
      "\n",
      "['Sketch - Draw & Paint', 'ART_AND_DESIGN', '4.5', '215644', '25M', '50,000,000+', 'Free', '0', 'Teen', 'Art & Design', 'June 8, 2018', 'Varies with device', '4.2 and up']\n",
      "\n",
      "\n",
      "['Pixel Draw - Number Art Coloring Book', 'ART_AND_DESIGN', '4.3', '967', '2.8M', '100,000+', 'Free', '0', 'Everyone', 'Art & Design;Creativity', 'June 20, 2018', '1.1', '4.4 and up']\n",
      "\n",
      "\n",
      "Number of rows: 10841\n",
      "Number of columns: 13\n"
     ]
    }
   ],
   "source": [
    "explore_data(google_data, 0, 5,True)\n",
    "\n"
   ]
  },
  {
   "cell_type": "markdown",
   "metadata": {},
   "source": [
    "## Deleting Wrong Data\n",
    "\n",
    "Row 10472 in google_data has a column missing. \n",
    "`print(google_data[10472])`\n",
    "The row is deleted: "
   ]
  },
  {
   "cell_type": "code",
   "execution_count": 6,
   "metadata": {},
   "outputs": [
    {
     "name": "stdout",
     "output_type": "stream",
     "text": [
      "['Life Made WI-Fi Touchscreen Photo Frame', '1.9', '19', '3.0M', '1,000+', 'Free', '0', 'Everyone', '', 'February 11, 2018', '1.0.19', '4.0 and up']\n"
     ]
    }
   ],
   "source": [
    "print(google_data[10472])"
   ]
  },
  {
   "cell_type": "code",
   "execution_count": 7,
   "metadata": {},
   "outputs": [],
   "source": [
    "del google_data[10472]"
   ]
  },
  {
   "cell_type": "markdown",
   "metadata": {},
   "source": [
    "After deleting row 10472, the total length is re-counted, to check that one row has been removed:"
   ]
  },
  {
   "cell_type": "code",
   "execution_count": 8,
   "metadata": {},
   "outputs": [
    {
     "name": "stdout",
     "output_type": "stream",
     "text": [
      "['Photo Editor & Candy Camera & Grid & ScrapBook', 'ART_AND_DESIGN', '4.1', '159', '19M', '10,000+', 'Free', '0', 'Everyone', 'Art & Design', 'January 7, 2018', '1.0.0', '4.0.3 and up']\n",
      "\n",
      "\n",
      "['Coloring book moana', 'ART_AND_DESIGN', '3.9', '967', '14M', '500,000+', 'Free', '0', 'Everyone', 'Art & Design;Pretend Play', 'January 15, 2018', '2.0.0', '4.0.3 and up']\n",
      "\n",
      "\n",
      "['U Launcher Lite – FREE Live Cool Themes, Hide Apps', 'ART_AND_DESIGN', '4.7', '87510', '8.7M', '5,000,000+', 'Free', '0', 'Everyone', 'Art & Design', 'August 1, 2018', '1.2.4', '4.0.3 and up']\n",
      "\n",
      "\n",
      "['Sketch - Draw & Paint', 'ART_AND_DESIGN', '4.5', '215644', '25M', '50,000,000+', 'Free', '0', 'Teen', 'Art & Design', 'June 8, 2018', 'Varies with device', '4.2 and up']\n",
      "\n",
      "\n",
      "['Pixel Draw - Number Art Coloring Book', 'ART_AND_DESIGN', '4.3', '967', '2.8M', '100,000+', 'Free', '0', 'Everyone', 'Art & Design;Creativity', 'June 20, 2018', '1.1', '4.4 and up']\n",
      "\n",
      "\n",
      "Number of rows: 10840\n",
      "Number of columns: 13\n"
     ]
    }
   ],
   "source": [
    "explore_data(google_data, 0, 5, True)\n"
   ]
  },
  {
   "cell_type": "markdown",
   "metadata": {},
   "source": [
    "## Removing Duplicate Entries (i)\n",
    "\n",
    "The Google Play data set has duplicate entries. \n",
    "Instagram has four row entries in the data set. \n",
    "The below code uses a `for loop` to print every entry for `Instagram`"
   ]
  },
  {
   "cell_type": "code",
   "execution_count": 9,
   "metadata": {},
   "outputs": [
    {
     "name": "stdout",
     "output_type": "stream",
     "text": [
      "['Instagram', 'SOCIAL', '4.5', '66577313', 'Varies with device', '1,000,000,000+', 'Free', '0', 'Teen', 'Social', 'July 31, 2018', 'Varies with device', 'Varies with device']\n",
      "['Instagram', 'SOCIAL', '4.5', '66577446', 'Varies with device', '1,000,000,000+', 'Free', '0', 'Teen', 'Social', 'July 31, 2018', 'Varies with device', 'Varies with device']\n",
      "['Instagram', 'SOCIAL', '4.5', '66577313', 'Varies with device', '1,000,000,000+', 'Free', '0', 'Teen', 'Social', 'July 31, 2018', 'Varies with device', 'Varies with device']\n",
      "['Instagram', 'SOCIAL', '4.5', '66509917', 'Varies with device', '1,000,000,000+', 'Free', '0', 'Teen', 'Social', 'July 31, 2018', 'Varies with device', 'Varies with device']\n"
     ]
    }
   ],
   "source": [
    "for app in google_data:\n",
    "    app_name = app[0]\n",
    "    if app_name == 'Instagram':\n",
    "        print(app)\n"
   ]
  },
  {
   "cell_type": "markdown",
   "metadata": {},
   "source": [
    "The below code identifies the duplicate apps in Google Play Store data set.\n",
    "\n",
    "It does this by:\n",
    "- creating two empty lists: `google_unique` and `google_duplicate`.\n",
    "- looping through `google_data` using `app_name`\n",
    "- checking if `app_name` is present in list `google_unique`\n",
    "- if `app_name` is already present, it adds `app_name` to `google_duplicate`.\n",
    "- if `app_name` is not already present in `google_unique`, it adds the app to `google_unique` list. \n",
    "\n",
    "It then: \n",
    "- uses the `len()` function to print the number of apps in `google_duplicate`. \n",
    "- uses the `len()` function to print the number of unique apps\n",
    "- uses the `print()` function to display the first 20 rows in `google_duplicate`."
   ]
  },
  {
   "cell_type": "code",
   "execution_count": 10,
   "metadata": {},
   "outputs": [
    {
     "name": "stdout",
     "output_type": "stream",
     "text": [
      "Number of Duplicate Apps: 1181\n",
      "Number of Unique Apps: 9659\n",
      "\n",
      "\n",
      "['Quick PDF Scanner + OCR FREE', 'Box', 'Google My Business', 'ZOOM Cloud Meetings', 'join.me - Simple Meetings', 'Box', 'Zenefits', 'Google Ads', 'Google My Business', 'Slack', 'FreshBooks Classic', 'Insightly CRM', 'QuickBooks Accounting: Invoicing & Expenses', 'HipChat - Chat Built for Teams', 'Xero Accounting Software', 'MailChimp - Email, Marketing Automation', 'Crew - Free Messaging and Scheduling', 'Asana: organize team projects', 'Google Analytics', 'AdWords Express']\n"
     ]
    }
   ],
   "source": [
    "google_unique = []\n",
    "google_duplicate = []\n",
    "\n",
    "for app in google_data:\n",
    "    app_name = app[0]\n",
    "    \n",
    "    if app_name in google_unique:\n",
    "        google_duplicate.append(app_name)\n",
    "    else:\n",
    "        google_unique.append(app_name)\n",
    "\n",
    "\n",
    "print('Number of Duplicate Apps:', len(google_duplicate))\n",
    "print('Number of Unique Apps:',len(google_unique))\n",
    "print('\\n')\n",
    "print(google_duplicate[:20])\n"
   ]
  },
  {
   "cell_type": "markdown",
   "metadata": {},
   "source": [
    "There are 1,181 duplicates in Google Play Store data set. These entries will need to be removed so as not to distort the data set. \n",
    "\n",
    "Looking at the four entries for Instagram above, it becomes clear that the duplication stems from a difference in number of ratings (column 4). \n",
    "\n",
    "I am going to retain the entry with the highest number of ratings, since this suggests that it was the most up-to-date entry. And for our purpose of looking at user ratings, the higher the number of ratings available, the better. \n",
    "\n",
    "This means that I will need to delete the remaining duplicate entries from the data set. "
   ]
  },
  {
   "cell_type": "markdown",
   "metadata": {},
   "source": [
    "## Removing Duplicate Entries (ii)"
   ]
  },
  {
   "cell_type": "markdown",
   "metadata": {},
   "source": [
    "I made the decision to retain the row with the highest number of reviews, and delete the duplicate entries. \n",
    "As a first step, I'm going to identify each row that contains the maximum number of review for an app, and store the values in a dictionary. \n",
    "In order to do this:\n",
    "- I created an empty dictionary called `reviews_max`\n",
    "- I created a variable `name` for app name, and another called `n_reviews`, for number of reviews.  \n",
    "- I looped through google_data. The loop checked if name was in the dictionary and also if n_reviews was greater than the dictionary value. If both conditions were met, the dictionary value was updated. If name was not in the dictionary, the key-value pair (name : n_reviews) was inserted in the dictionary. \n",
    "\n",
    "The dictionary therefore contained only the app name with the maximum number of reviews from the google data set. \n",
    "\n",
    "I used the len() function to confirm that the number of key-value pairs in the dictionary matched the expected number (9659 rows). \n"
   ]
  },
  {
   "cell_type": "code",
   "execution_count": 11,
   "metadata": {},
   "outputs": [
    {
     "data": {
      "text/plain": [
       "9659"
      ]
     },
     "execution_count": 11,
     "metadata": {},
     "output_type": "execute_result"
    }
   ],
   "source": [
    "reviews_max = {}\n",
    "\n",
    "for row in google_data:\n",
    "    name = row[0]\n",
    "    n_reviews = float(row[3])\n",
    "    if name in reviews_max and reviews_max[name] < n_reviews:\n",
    "        reviews_max[name] = n_reviews\n",
    "    if name not in reviews_max:\n",
    "        reviews_max[name] = n_reviews\n",
    "\n",
    "len(reviews_max)\n",
    "        \n",
    "\n",
    "\n"
   ]
  },
  {
   "cell_type": "markdown",
   "metadata": {},
   "source": [
    "Next, I used the data stored in the dictionary to create a new, clean data set (`android_clean`). \n",
    "\n",
    "- I created two empty lists, android_clean and already_added. \n",
    "- For google_data, I assigned the variable `name` for app name, and `n_reviews` for number of reviews. \n",
    "- I looped through google_data. If `n_reviews` in `google_data` matched value stored in `reviews_max` dictionary, and `name` was not in `already_added` list, then the whole row was added to `android_clean`. \n"
   ]
  },
  {
   "cell_type": "code",
   "execution_count": 12,
   "metadata": {},
   "outputs": [
    {
     "name": "stdout",
     "output_type": "stream",
     "text": [
      "9659\n",
      "[['Photo Editor & Candy Camera & Grid & ScrapBook', 'ART_AND_DESIGN', '4.1', '159', '19M', '10,000+', 'Free', '0', 'Everyone', 'Art & Design', 'January 7, 2018', '1.0.0', '4.0.3 and up'], ['U Launcher Lite – FREE Live Cool Themes, Hide Apps', 'ART_AND_DESIGN', '4.7', '87510', '8.7M', '5,000,000+', 'Free', '0', 'Everyone', 'Art & Design', 'August 1, 2018', '1.2.4', '4.0.3 and up'], ['Sketch - Draw & Paint', 'ART_AND_DESIGN', '4.5', '215644', '25M', '50,000,000+', 'Free', '0', 'Teen', 'Art & Design', 'June 8, 2018', 'Varies with device', '4.2 and up'], ['Pixel Draw - Number Art Coloring Book', 'ART_AND_DESIGN', '4.3', '967', '2.8M', '100,000+', 'Free', '0', 'Everyone', 'Art & Design;Creativity', 'June 20, 2018', '1.1', '4.4 and up'], ['Paper flowers instructions', 'ART_AND_DESIGN', '4.4', '167', '5.6M', '50,000+', 'Free', '0', 'Everyone', 'Art & Design', 'March 26, 2017', '1.0', '2.3 and up']]\n",
      "\n",
      "\n",
      "['Photo Editor & Candy Camera & Grid & ScrapBook', 'U Launcher Lite – FREE Live Cool Themes, Hide Apps', 'Sketch - Draw & Paint', 'Pixel Draw - Number Art Coloring Book', 'Paper flowers instructions']\n"
     ]
    }
   ],
   "source": [
    "android_clean = []\n",
    "already_added = []\n",
    "\n",
    "for row in google_data:\n",
    "    name = row[0]\n",
    "    n_reviews = float(row[3])\n",
    "    \n",
    "    if (reviews_max[name] == n_reviews) and (name not in already_added):\n",
    "        android_clean.append(row)\n",
    "        already_added.append(name)\n",
    "\n",
    "print(len(android_clean))\n",
    "print(android_clean[0:5])\n",
    "print('\\n')\n",
    "print(already_added[0:5])\n",
    "    "
   ]
  },
  {
   "cell_type": "markdown",
   "metadata": {},
   "source": [
    "## Removing Non-English Apps (i):\n",
    "\n",
    "Some of the apps in the data set are non-English apps. Since we are only interested in English-speaking apps for our analysis, it is desirable to identify and remove any non-English language apps from the data set. \n",
    "\n",
    "The below function is designed to detect whether a particular string contains a non-English-language character.\n",
    "It:\n",
    "- loops over each character in the string\n",
    "- determines whether the character has an ordinal of more than 127 (0-127 correspond to English language characters). \n",
    "- if it does, the function returns `False`, otherwise it returns `true`."
   ]
  },
  {
   "cell_type": "code",
   "execution_count": 13,
   "metadata": {},
   "outputs": [],
   "source": [
    "def eng_check(string):\n",
    "    for character in string:\n",
    "        if ord(character) > 127:\n",
    "            return False\n",
    "    return True\n",
    "  "
   ]
  },
  {
   "cell_type": "code",
   "execution_count": 14,
   "metadata": {},
   "outputs": [
    {
     "name": "stdout",
     "output_type": "stream",
     "text": [
      "True\n",
      "False\n",
      "False\n",
      "False\n"
     ]
    }
   ],
   "source": [
    "print(eng_check('Instagram'))\n",
    "print(eng_check('爱奇艺PPS -《欢乐颂2》电视剧热播'))\n",
    "print(eng_check('Docs To Go™ Free Office Suite'))\n",
    "print(eng_check('Instachat 😜'))"
   ]
  },
  {
   "cell_type": "markdown",
   "metadata": {},
   "source": [
    "Some English language app names contain characters that fall outside of the 0-127 range (such as emojis). Since we don't want these apps to get excluded from our analysis, the below modified function allows for up to 3 non-English-language characters to be in the string. It:\n",
    "\n",
    "- starts with an empty count\n",
    "- loops through each character of the string\n",
    "- if character falls outside of the 0-127 range, it adds 1 to the empty list. \n",
    "- if the list is greater than 3, the function returns `False` (non-English app), otherwise it returns `True`. "
   ]
  },
  {
   "cell_type": "code",
   "execution_count": 15,
   "metadata": {},
   "outputs": [],
   "source": [
    "def eng_check(string):\n",
    "    non_ascii = 0\n",
    "    \n",
    "    for character in string:\n",
    "        if ord(character) > 127:\n",
    "            non_ascii += 1\n",
    "    if non_ascii > 3:\n",
    "        return False\n",
    "    else:\n",
    "        return True"
   ]
  },
  {
   "cell_type": "code",
   "execution_count": 16,
   "metadata": {},
   "outputs": [
    {
     "data": {
      "text/plain": [
       "False"
      ]
     },
     "execution_count": 16,
     "metadata": {},
     "output_type": "execute_result"
    }
   ],
   "source": [
    "eng_check('爱奇艺PPS -《欢乐颂2》电视剧热播')"
   ]
  },
  {
   "cell_type": "code",
   "execution_count": 17,
   "metadata": {},
   "outputs": [
    {
     "name": "stdout",
     "output_type": "stream",
     "text": [
      "[['Photo Editor & Candy Camera & Grid & ScrapBook', 'ART_AND_DESIGN', '4.1', '159', '19M', '10,000+', 'Free', '0', 'Everyone', 'Art & Design', 'January 7, 2018', '1.0.0', '4.0.3 and up'], ['U Launcher Lite – FREE Live Cool Themes, Hide Apps', 'ART_AND_DESIGN', '4.7', '87510', '8.7M', '5,000,000+', 'Free', '0', 'Everyone', 'Art & Design', 'August 1, 2018', '1.2.4', '4.0.3 and up'], ['Sketch - Draw & Paint', 'ART_AND_DESIGN', '4.5', '215644', '25M', '50,000,000+', 'Free', '0', 'Teen', 'Art & Design', 'June 8, 2018', 'Varies with device', '4.2 and up'], ['Pixel Draw - Number Art Coloring Book', 'ART_AND_DESIGN', '4.3', '967', '2.8M', '100,000+', 'Free', '0', 'Everyone', 'Art & Design;Creativity', 'June 20, 2018', '1.1', '4.4 and up'], ['Paper flowers instructions', 'ART_AND_DESIGN', '4.4', '167', '5.6M', '50,000+', 'Free', '0', 'Everyone', 'Art & Design', 'March 26, 2017', '1.0', '2.3 and up']]\n",
      "Length google_eng:  9614\n",
      "\n",
      "\n",
      "[['284882215', 'Facebook', '389879808', 'USD', '0.0', '2974676', '212', '3.5', '3.5', '95.0', '4+', 'Social Networking', '37', '1', '29', '1'], ['389801252', 'Instagram', '113954816', 'USD', '0.0', '2161558', '1289', '4.5', '4.0', '10.23', '12+', 'Photo & Video', '37', '0', '29', '1'], ['529479190', 'Clash of Clans', '116476928', 'USD', '0.0', '2130805', '579', '4.5', '4.5', '9.24.12', '9+', 'Games', '38', '5', '18', '1'], ['420009108', 'Temple Run', '65921024', 'USD', '0.0', '1724546', '3842', '4.5', '4.0', '1.6.2', '9+', 'Games', '40', '5', '1', '1'], ['284035177', 'Pandora - Music & Radio', '130242560', 'USD', '0.0', '1126879', '3594', '4.0', '4.5', '8.4.1', '12+', 'Music', '37', '4', '1', '1']]\n",
      "Length apple_data:  6183\n"
     ]
    }
   ],
   "source": [
    "google_eng = []\n",
    "apple_eng = []\n",
    "\n",
    "for app in android_clean:\n",
    "    name = app[0]\n",
    "    if eng_check(name):\n",
    "        google_eng.append(app)\n",
    "\n",
    "for app in apple_data:\n",
    "    name = app[1]\n",
    "    if eng_check(name):\n",
    "        apple_eng.append(app)\n",
    "\n",
    "print(google_eng[0:5])\n",
    "print('Length google_eng: ',len(google_eng))\n",
    "print('\\n')\n",
    "print(apple_eng[0:5])\n",
    "print('Length apple_data: ',len(apple_eng))\n",
    "            "
   ]
  },
  {
   "cell_type": "markdown",
   "metadata": {
    "collapsed": true
   },
   "source": [
    "## Isolating Free Apps\n",
    "\n",
    "Both data sets specify whether or not the app is free. \n",
    "\n",
    "For the apple data set, this is column 5 (index = 4).\n",
    "\n",
    "For the google data set, this is column 8 (index = 7)."
   ]
  },
  {
   "cell_type": "code",
   "execution_count": 18,
   "metadata": {
    "scrolled": true
   },
   "outputs": [
    {
     "name": "stdout",
     "output_type": "stream",
     "text": [
      "['id', 'track_name', 'size_bytes', 'currency', 'price', 'rating_count_tot', 'rating_count_ver', 'user_rating', 'user_rating_ver', 'ver', 'cont_rating', 'prime_genre', 'sup_devices.num', 'ipadSc_urls.num', 'lang.num', 'vpp_lic']\n",
      "['App', 'Category', 'Rating', 'Reviews', 'Size', 'Installs', 'Type', 'Price', 'Content Rating', 'Genres', 'Last Updated', 'Current Ver', 'Android Ver']\n"
     ]
    }
   ],
   "source": [
    "print(apple_header)\n",
    "print(google_header)"
   ]
  },
  {
   "cell_type": "markdown",
   "metadata": {},
   "source": [
    "The below code isolates only the free Android apps and the free Apple apps. \n",
    "It:\n",
    "- creates two empty lists (`google_free` and `apple_free`)\n",
    "- loops through the cleaned google data set, and where `price == '0'`, adds the app to `google_free`\n",
    "- loops through the cleaned apple data set, and where `price == '0.0'`, adds the app to `apple_free`\n",
    "- finally, it prints a sample from both lists, and the final count of each. \n",
    "\n",
    "NB: the Android data lists free apps as '0', whereas the Apple data set lists free apps as '0.0'"
   ]
  },
  {
   "cell_type": "code",
   "execution_count": 19,
   "metadata": {},
   "outputs": [
    {
     "name": "stdout",
     "output_type": "stream",
     "text": [
      "[['Photo Editor & Candy Camera & Grid & ScrapBook', 'ART_AND_DESIGN', '4.1', '159', '19M', '10,000+', 'Free', '0', 'Everyone', 'Art & Design', 'January 7, 2018', '1.0.0', '4.0.3 and up'], ['U Launcher Lite – FREE Live Cool Themes, Hide Apps', 'ART_AND_DESIGN', '4.7', '87510', '8.7M', '5,000,000+', 'Free', '0', 'Everyone', 'Art & Design', 'August 1, 2018', '1.2.4', '4.0.3 and up'], ['Sketch - Draw & Paint', 'ART_AND_DESIGN', '4.5', '215644', '25M', '50,000,000+', 'Free', '0', 'Teen', 'Art & Design', 'June 8, 2018', 'Varies with device', '4.2 and up'], ['Pixel Draw - Number Art Coloring Book', 'ART_AND_DESIGN', '4.3', '967', '2.8M', '100,000+', 'Free', '0', 'Everyone', 'Art & Design;Creativity', 'June 20, 2018', '1.1', '4.4 and up'], ['Paper flowers instructions', 'ART_AND_DESIGN', '4.4', '167', '5.6M', '50,000+', 'Free', '0', 'Everyone', 'Art & Design', 'March 26, 2017', '1.0', '2.3 and up']]\n",
      "Number of free google apps: 8864\n",
      "[['284882215', 'Facebook', '389879808', 'USD', '0.0', '2974676', '212', '3.5', '3.5', '95.0', '4+', 'Social Networking', '37', '1', '29', '1'], ['389801252', 'Instagram', '113954816', 'USD', '0.0', '2161558', '1289', '4.5', '4.0', '10.23', '12+', 'Photo & Video', '37', '0', '29', '1'], ['529479190', 'Clash of Clans', '116476928', 'USD', '0.0', '2130805', '579', '4.5', '4.5', '9.24.12', '9+', 'Games', '38', '5', '18', '1'], ['420009108', 'Temple Run', '65921024', 'USD', '0.0', '1724546', '3842', '4.5', '4.0', '1.6.2', '9+', 'Games', '40', '5', '1', '1'], ['284035177', 'Pandora - Music & Radio', '130242560', 'USD', '0.0', '1126879', '3594', '4.0', '4.5', '8.4.1', '12+', 'Music', '37', '4', '1', '1']]\n",
      "Number of free apple apps:  3222\n"
     ]
    }
   ],
   "source": [
    "google_free = []\n",
    "apple_free = []\n",
    "\n",
    "for app in google_eng:\n",
    "    price = app[7]\n",
    "    if price == '0':\n",
    "        google_free.append(app)\n",
    "\n",
    "for app in apple_eng:\n",
    "    price = app[4]\n",
    "    if price == '0.0':\n",
    "        apple_free.append(app)\n",
    "        \n",
    "print(google_free[0:5])\n",
    "print('Number of free google apps:' , len(google_free))\n",
    "print(apple_free[0:5])\n",
    "print('Number of free apple apps: ',len(apple_free))\n",
    "        "
   ]
  },
  {
   "cell_type": "markdown",
   "metadata": {},
   "source": [
    "## Most Common Apps by Genre (i)\n",
    "\n",
    "The aim of the analysis is to determine which types of app are likely to attract the most users, since revenue from in-app advertising is influenced by the number of people using the app. \n",
    "\n",
    "The validation strategy for the app's development is to:\n",
    "- build an Android version of the app\n",
    "- release on Google Play\n",
    "- if there is a good response, develop the app further\n",
    "- if the app becomes profitable after 6 months, build an iOS version of the app, to be added to the App Store. \n",
    "\n",
    "This analysis therefore seeks to find out which types of apps available from both app stores are the most common and the most popular. "
   ]
  },
  {
   "cell_type": "markdown",
   "metadata": {},
   "source": [
    "If we explore the cleaned Android dataset of free apps `google_free`, we could use several data points in our analysis:\n",
    "\n",
    "- Category\n",
    "- Rating\n",
    "- Reviews\n",
    "- Installs\n",
    "- Genre"
   ]
  },
  {
   "cell_type": "code",
   "execution_count": 20,
   "metadata": {},
   "outputs": [
    {
     "name": "stdout",
     "output_type": "stream",
     "text": [
      "['App', 'Category', 'Rating', 'Reviews', 'Size', 'Installs', 'Type', 'Price', 'Content Rating', 'Genres', 'Last Updated', 'Current Ver', 'Android Ver']\n",
      "['Easy Installer - Apps On SD', 'BUSINESS', '4.1', '23055', 'Varies with device', '5,000,000+', 'Free', '0', 'Everyone', 'Business', 'June 8, 2018', 'Varies with device', 'Varies with device']\n",
      "\n",
      "\n",
      "['IndiaMART: Search Products, Buy, Sell & Trade', 'BUSINESS', '4.5', '207372', '11M', '5,000,000+', 'Free', '0', 'Everyone', 'Business', 'August 2, 2018', '12.2.4', '4.0 and up']\n",
      "\n",
      "\n",
      "['ViettelPost express delivery', 'BUSINESS', '4.4', '1225', '25M', '100,000+', 'Free', '0', 'Everyone', 'Business', 'August 1, 2018', '1.0.6.8', '4.1 and up']\n",
      "\n",
      "\n",
      "['MyASUS - Service Center', 'BUSINESS', '4.4', '380837', '7.3M', '10,000,000+', 'Free', '0', 'Everyone', 'Business', 'July 4, 2018', '3.4.5', '4.2 and up']\n",
      "\n",
      "\n",
      "['Job Korea - Career Jobs', 'BUSINESS', '4.3', '10600', '6.5M', '1,000,000+', 'Free', '0', 'Everyone', 'Business', 'August 1, 2018', '2.5.6', '4.0 and up']\n",
      "\n",
      "\n",
      "['104 Looking for a job - looking for a job, looking for a job, looking for a part-time job, health checkup, resume, treatment room', 'BUSINESS', '4.4', '74359', '25M', '1,000,000+', 'Free', '0', 'Everyone', 'Business', 'July 27, 2018', '1.12.5', '4.0 and up']\n",
      "\n",
      "\n",
      "['Myanmar 2D/3D', 'BUSINESS', '4.6', '822', '3.1M', '100,000+', 'Free', '0', 'Everyone', 'Business', 'June 8, 2018', '1.5', '4.0.3 and up']\n",
      "\n",
      "\n",
      "['Quick PDF Scanner + OCR FREE', 'BUSINESS', '4.2', '80805', 'Varies with device', '5,000,000+', 'Free', '0', 'Everyone', 'Business', 'February 26, 2018', 'Varies with device', '4.0.3 and up']\n",
      "\n",
      "\n",
      "['sABN', 'BUSINESS', '4.4', '2287', '1.5M', '1,000,000+', 'Free', '0', 'Everyone', 'Business', 'March 26, 2018', '4.9', '2.2 and up']\n",
      "\n",
      "\n",
      "['ATI Cargoes and Transportation', 'BUSINESS', '4.7', '4162', '7.5M', '100,000+', 'Free', '0', 'Everyone', 'Business', 'July 24, 2018', '0.9.4', '4.0.3 and up']\n",
      "\n",
      "\n",
      "Number of rows: 8864\n",
      "Number of columns: 13\n"
     ]
    }
   ],
   "source": [
    "print(google_header)\n",
    "explore_data(google_free, 200, 210,True)"
   ]
  },
  {
   "cell_type": "markdown",
   "metadata": {},
   "source": [
    "Similarly, if we explore the cleaned Apple data set of free apps, `apple_free`, we could use the following data points in our analysis:\n",
    "\n",
    "- rating_count_tot\n",
    "- user_rating\n",
    "- prime_genre\n"
   ]
  },
  {
   "cell_type": "code",
   "execution_count": 21,
   "metadata": {},
   "outputs": [
    {
     "name": "stdout",
     "output_type": "stream",
     "text": [
      "['id', 'track_name', 'size_bytes', 'currency', 'price', 'rating_count_tot', 'rating_count_ver', 'user_rating', 'user_rating_ver', 'ver', 'cont_rating', 'prime_genre', 'sup_devices.num', 'ipadSc_urls.num', 'lang.num', 'vpp_lic']\n",
      "\n",
      "\n",
      "['696565994', 'Shadow Fight 2', '144713728', 'USD', '0.0', '99206', '1876', '4.5', '4.5', '1.9.29', '12+', 'Games', '40', '5', '1', '1']\n",
      "\n",
      "\n",
      "['339440515', 'Voice Changer Plus', '40722432', 'USD', '0.0', '98777', '233', '3.0', '4.0', '5.01', '4+', 'Entertainment', '37', '2', '12', '1']\n",
      "\n",
      "\n",
      "['429610587', 'iFunny :)', '66599936', 'USD', '0.0', '98344', '877', '3.5', '4.5', '4.6.8', '17+', 'Entertainment', '37', '2', '2', '1']\n",
      "\n",
      "\n",
      "['491730359', 'The CW', '30552064', 'USD', '0.0', '97368', '9', '4.5', '3.5', 'v2.13.9', '12+', 'Entertainment', '37', '5', '9', '1']\n",
      "\n",
      "\n",
      "['806077016', 'War Robots', '600535040', 'USD', '0.0', '97122', '380', '4.5', '4.5', '2.9.0', '12+', 'Games', '38', '5', '17', '1']\n",
      "\n",
      "\n",
      "['372648912', 'MeetMe - Chat and Meet New People', '133956608', 'USD', '0.0', '97072', '143', '4.0', '3.5', '12.1.1.0', '17+', 'Social Networking', '37', '0', '18', '1']\n",
      "\n",
      "\n",
      "['577232024', 'Lumosity - Brain Training', '214962176', 'USD', '0.0', '96534', '188', '4.5', '4.5', '9.8', '4+', 'Education', '37', '5', '6', '1']\n",
      "\n",
      "\n",
      "['499511971', 'Angry Birds Space', '161200128', 'USD', '0.0', '95892', '2', '4.0', '1.0', '2.2.12', '4+', 'Games', '37', '0', '1', '1']\n",
      "\n",
      "\n",
      "['530957474', 'Photo Collage Maker & Photo Editor - Live Collage', '94266368', 'USD', '0.0', '93781', '0', '4.5', '0.0', '5.5.0', '4+', 'Photo & Video', '37', '5', '4', '1']\n",
      "\n",
      "\n",
      "['1093190533', \"PewDiePie's Tuber Simulator\", '266766336', 'USD', '0.0', '90851', '535', '5.0', '5.0', '1.9.1', '9+', 'Games', '37', '5', '17', '1']\n",
      "\n",
      "\n",
      "Number of rows: 3222\n",
      "Number of columns: 16\n"
     ]
    }
   ],
   "source": [
    "print (apple_header)\n",
    "print('\\n')\n",
    "explore_data(apple_free, 200, 210, True)"
   ]
  },
  {
   "cell_type": "markdown",
   "metadata": {},
   "source": [
    "In terms of identifying the most common genres, the following data points would be most useful:\n",
    "\n",
    "Android:\n",
    "\n",
    "- `Category`\n",
    "- `Genre`\n",
    "\n",
    "Apple:\n",
    "\n",
    "- `prime_genre`"
   ]
  },
  {
   "cell_type": "markdown",
   "metadata": {},
   "source": [
    "## Most Common Apps by Genre (ii):\n",
    "\n",
    "The below code defines a function that calculates the frequency of a particular column (in this case, we are looking for the genre of the app) and displays the frequency as a percentage. \n",
    "\n",
    "Two do this it creates two dictionaries. \n",
    "\n",
    "The first uses a for loop to counts how many times a particular value (genre) features in the dataset, by adding it the `value_freq` dictionary. It also counts the total number of values in the dataset. \n",
    "\n",
    "The second uses a for loop to calculate each dictionary value as a percentage, and adds the percentage to the new dictionary `freq_percentages`\n",
    "\n",
    "The function then returns all the values as percentages. "
   ]
  },
  {
   "cell_type": "code",
   "execution_count": 22,
   "metadata": {},
   "outputs": [],
   "source": [
    "def freq_table(dataset, index):\n",
    "    value_freq = {}\n",
    "    total = 0\n",
    "    \n",
    "    for row in dataset:\n",
    "        total += 1\n",
    "        value = row[index]\n",
    "        if value in value_freq:\n",
    "            value_freq[value] += 1\n",
    "        else:\n",
    "            value_freq[value] = 1\n",
    "    \n",
    "    freq_percentages = {}\n",
    "    \n",
    "    for key in value_freq:\n",
    "        percentage = (value_freq[key] / total) * 100\n",
    "        freq_percentages[key] = percentage\n",
    "        \n",
    "    \n",
    "    return freq_percentages\n",
    "\n",
    " \n"
   ]
  },
  {
   "cell_type": "code",
   "execution_count": 23,
   "metadata": {},
   "outputs": [],
   "source": [
    "def display_table(dataset, index):\n",
    "    table = freq_table(dataset, index)\n",
    "    table_display = []\n",
    "    for key in table:\n",
    "        key_val_as_tuple = (table[key], key)\n",
    "        table_display.append(key_val_as_tuple)\n",
    "\n",
    "    table_sorted = sorted(table_display, reverse = True)\n",
    "    for entry in table_sorted:\n",
    "        print(entry[1], ':', entry[0])"
   ]
  },
  {
   "cell_type": "markdown",
   "metadata": {},
   "source": [
    "Using the in-built funtion `display_table`, we can view what the percentage of certain genres are in each dataset, ordered from most common to least common. (NB: the function of `display_table` is to convert the dictionary of percentages into tuples, which is then sorted from high to low.)"
   ]
  },
  {
   "cell_type": "markdown",
   "metadata": {},
   "source": [
    "Here are the different genres featuring in the clean Apple dataset using `prime genre` column, now ranked from highest to low.  "
   ]
  },
  {
   "cell_type": "code",
   "execution_count": 24,
   "metadata": {},
   "outputs": [
    {
     "name": "stdout",
     "output_type": "stream",
     "text": [
      "Games : 58.16263190564867\n",
      "Entertainment : 7.883302296710118\n",
      "Photo & Video : 4.9658597144630665\n",
      "Education : 3.662321539416512\n",
      "Social Networking : 3.2898820608317814\n",
      "Shopping : 2.60707635009311\n",
      "Utilities : 2.5139664804469275\n",
      "Sports : 2.1415270018621975\n",
      "Music : 2.0484171322160147\n",
      "Health & Fitness : 2.0173805090006205\n",
      "Productivity : 1.7380509000620732\n",
      "Lifestyle : 1.5828677839851024\n",
      "News : 1.3345747982619491\n",
      "Travel : 1.2414649286157666\n",
      "Finance : 1.1173184357541899\n",
      "Weather : 0.8690254500310366\n",
      "Food & Drink : 0.8069522036002483\n",
      "Reference : 0.5586592178770949\n",
      "Business : 0.5276225946617008\n",
      "Book : 0.4345127250155183\n",
      "Navigation : 0.186219739292365\n",
      "Medical : 0.186219739292365\n",
      "Catalogs : 0.12414649286157665\n"
     ]
    }
   ],
   "source": [
    "display_table(apple_free,11)"
   ]
  },
  {
   "cell_type": "markdown",
   "metadata": {},
   "source": [
    "Here are the different genres featuring in the clean Android dataset using the `Genres` column, now ranked from highest to low:"
   ]
  },
  {
   "cell_type": "code",
   "execution_count": 25,
   "metadata": {},
   "outputs": [
    {
     "name": "stdout",
     "output_type": "stream",
     "text": [
      "Tools : 8.449909747292418\n",
      "Entertainment : 6.069494584837545\n",
      "Education : 5.347472924187725\n",
      "Business : 4.591606498194946\n",
      "Productivity : 3.892148014440433\n",
      "Lifestyle : 3.892148014440433\n",
      "Finance : 3.7003610108303246\n",
      "Medical : 3.531137184115524\n",
      "Sports : 3.463447653429603\n",
      "Personalization : 3.3167870036101084\n",
      "Communication : 3.2378158844765346\n",
      "Action : 3.1024368231046933\n",
      "Health & Fitness : 3.0798736462093865\n",
      "Photography : 2.944494584837545\n",
      "News & Magazines : 2.7978339350180503\n",
      "Social : 2.6624548736462095\n",
      "Travel & Local : 2.3240072202166067\n",
      "Shopping : 2.2450361010830324\n",
      "Books & Reference : 2.1435018050541514\n",
      "Simulation : 2.0419675090252705\n",
      "Dating : 1.861462093862816\n",
      "Arcade : 1.8501805054151623\n",
      "Video Players & Editors : 1.7712093862815883\n",
      "Casual : 1.7599277978339352\n",
      "Maps & Navigation : 1.3989169675090252\n",
      "Food & Drink : 1.2409747292418771\n",
      "Puzzle : 1.128158844765343\n",
      "Racing : 0.9927797833935018\n",
      "Role Playing : 0.9363718411552346\n",
      "Libraries & Demo : 0.9363718411552346\n",
      "Auto & Vehicles : 0.9250902527075812\n",
      "Strategy : 0.9138086642599278\n",
      "House & Home : 0.8235559566787004\n",
      "Weather : 0.8009927797833934\n",
      "Events : 0.7107400722021661\n",
      "Adventure : 0.6768953068592057\n",
      "Comics : 0.6092057761732852\n",
      "Beauty : 0.5979241877256317\n",
      "Art & Design : 0.5979241877256317\n",
      "Parenting : 0.4963898916967509\n",
      "Card : 0.45126353790613716\n",
      "Casino : 0.42870036101083037\n",
      "Trivia : 0.41741877256317694\n",
      "Educational;Education : 0.39485559566787\n",
      "Board : 0.3835740072202166\n",
      "Educational : 0.3722924187725632\n",
      "Education;Education : 0.33844765342960287\n",
      "Word : 0.2594765342960289\n",
      "Casual;Pretend Play : 0.236913357400722\n",
      "Music : 0.2030685920577617\n",
      "Racing;Action & Adventure : 0.16922382671480143\n",
      "Puzzle;Brain Games : 0.16922382671480143\n",
      "Entertainment;Music & Video : 0.16922382671480143\n",
      "Casual;Brain Games : 0.13537906137184114\n",
      "Casual;Action & Adventure : 0.13537906137184114\n",
      "Arcade;Action & Adventure : 0.12409747292418773\n",
      "Action;Action & Adventure : 0.10153429602888085\n",
      "Educational;Pretend Play : 0.09025270758122744\n",
      "Simulation;Action & Adventure : 0.078971119133574\n",
      "Parenting;Education : 0.078971119133574\n",
      "Entertainment;Brain Games : 0.078971119133574\n",
      "Board;Brain Games : 0.078971119133574\n",
      "Parenting;Music & Video : 0.06768953068592057\n",
      "Educational;Brain Games : 0.06768953068592057\n",
      "Casual;Creativity : 0.06768953068592057\n",
      "Art & Design;Creativity : 0.06768953068592057\n",
      "Education;Pretend Play : 0.056407942238267145\n",
      "Role Playing;Pretend Play : 0.04512635379061372\n",
      "Education;Creativity : 0.04512635379061372\n",
      "Role Playing;Action & Adventure : 0.033844765342960284\n",
      "Puzzle;Action & Adventure : 0.033844765342960284\n",
      "Entertainment;Creativity : 0.033844765342960284\n",
      "Entertainment;Action & Adventure : 0.033844765342960284\n",
      "Educational;Creativity : 0.033844765342960284\n",
      "Educational;Action & Adventure : 0.033844765342960284\n",
      "Education;Music & Video : 0.033844765342960284\n",
      "Education;Brain Games : 0.033844765342960284\n",
      "Education;Action & Adventure : 0.033844765342960284\n",
      "Adventure;Action & Adventure : 0.033844765342960284\n",
      "Video Players & Editors;Music & Video : 0.02256317689530686\n",
      "Sports;Action & Adventure : 0.02256317689530686\n",
      "Simulation;Pretend Play : 0.02256317689530686\n",
      "Puzzle;Creativity : 0.02256317689530686\n",
      "Music;Music & Video : 0.02256317689530686\n",
      "Entertainment;Pretend Play : 0.02256317689530686\n",
      "Casual;Education : 0.02256317689530686\n",
      "Board;Action & Adventure : 0.02256317689530686\n",
      "Video Players & Editors;Creativity : 0.01128158844765343\n",
      "Trivia;Education : 0.01128158844765343\n",
      "Travel & Local;Action & Adventure : 0.01128158844765343\n",
      "Tools;Education : 0.01128158844765343\n",
      "Strategy;Education : 0.01128158844765343\n",
      "Strategy;Creativity : 0.01128158844765343\n",
      "Strategy;Action & Adventure : 0.01128158844765343\n",
      "Simulation;Education : 0.01128158844765343\n",
      "Role Playing;Brain Games : 0.01128158844765343\n",
      "Racing;Pretend Play : 0.01128158844765343\n",
      "Puzzle;Education : 0.01128158844765343\n",
      "Parenting;Brain Games : 0.01128158844765343\n",
      "Music & Audio;Music & Video : 0.01128158844765343\n",
      "Lifestyle;Pretend Play : 0.01128158844765343\n",
      "Lifestyle;Education : 0.01128158844765343\n",
      "Health & Fitness;Education : 0.01128158844765343\n",
      "Health & Fitness;Action & Adventure : 0.01128158844765343\n",
      "Entertainment;Education : 0.01128158844765343\n",
      "Communication;Creativity : 0.01128158844765343\n",
      "Comics;Creativity : 0.01128158844765343\n",
      "Casual;Music & Video : 0.01128158844765343\n",
      "Card;Action & Adventure : 0.01128158844765343\n",
      "Books & Reference;Education : 0.01128158844765343\n",
      "Art & Design;Pretend Play : 0.01128158844765343\n",
      "Art & Design;Action & Adventure : 0.01128158844765343\n",
      "Arcade;Pretend Play : 0.01128158844765343\n",
      "Adventure;Education : 0.01128158844765343\n"
     ]
    }
   ],
   "source": [
    "display_table(google_free,9)"
   ]
  },
  {
   "cell_type": "markdown",
   "metadata": {},
   "source": [
    "Here are the different genres featuring in the clean Android dataset using the `Category` column, now ranked from highest to low. Of the two columns, this is more generalised than the Genres column and gives a clearer picture of the different categories. "
   ]
  },
  {
   "cell_type": "code",
   "execution_count": 26,
   "metadata": {},
   "outputs": [
    {
     "name": "stdout",
     "output_type": "stream",
     "text": [
      "FAMILY : 18.907942238267147\n",
      "GAME : 9.724729241877256\n",
      "TOOLS : 8.461191335740072\n",
      "BUSINESS : 4.591606498194946\n",
      "LIFESTYLE : 3.9034296028880866\n",
      "PRODUCTIVITY : 3.892148014440433\n",
      "FINANCE : 3.7003610108303246\n",
      "MEDICAL : 3.531137184115524\n",
      "SPORTS : 3.395758122743682\n",
      "PERSONALIZATION : 3.3167870036101084\n",
      "COMMUNICATION : 3.2378158844765346\n",
      "HEALTH_AND_FITNESS : 3.0798736462093865\n",
      "PHOTOGRAPHY : 2.944494584837545\n",
      "NEWS_AND_MAGAZINES : 2.7978339350180503\n",
      "SOCIAL : 2.6624548736462095\n",
      "TRAVEL_AND_LOCAL : 2.33528880866426\n",
      "SHOPPING : 2.2450361010830324\n",
      "BOOKS_AND_REFERENCE : 2.1435018050541514\n",
      "DATING : 1.861462093862816\n",
      "VIDEO_PLAYERS : 1.7937725631768955\n",
      "MAPS_AND_NAVIGATION : 1.3989169675090252\n",
      "FOOD_AND_DRINK : 1.2409747292418771\n",
      "EDUCATION : 1.1620036101083033\n",
      "ENTERTAINMENT : 0.9589350180505415\n",
      "LIBRARIES_AND_DEMO : 0.9363718411552346\n",
      "AUTO_AND_VEHICLES : 0.9250902527075812\n",
      "HOUSE_AND_HOME : 0.8235559566787004\n",
      "WEATHER : 0.8009927797833934\n",
      "EVENTS : 0.7107400722021661\n",
      "PARENTING : 0.6543321299638989\n",
      "ART_AND_DESIGN : 0.6430505415162455\n",
      "COMICS : 0.6204873646209386\n",
      "BEAUTY : 0.5979241877256317\n"
     ]
    }
   ],
   "source": [
    "display_table(google_free,1)"
   ]
  },
  {
   "cell_type": "markdown",
   "metadata": {},
   "source": [
    "# Most Common Apps by Genre (iii):\n",
    "\n",
    "## Analysis (i): The App Store\n",
    "\n",
    "What is the most common genre? What is the runner-up?\n",
    "\n",
    "The most common genre for free apps on the App Store is \"Games\" (58%), which is the most common genre by a large margin. The runner-up is \"Entertainment\", at 8%. \n",
    "\n",
    "What other patterns do you see?\n",
    "\n",
    "Hobbies (social networking, photo, music, sport) all feature with similar percentages (2-4%), still very low compared to Games) as the next most common free apps, while information-based apps (news, weather, finance, business) feature even less. However, it could be that these apps are more commonly paid for on the App Store. \n",
    "\n",
    "What is the general impression — are most of the apps designed for practical purposes (education, shopping, utilities, productivity, lifestyle) or more for entertainment (games, photo and video, social networking, sports, music)?\n",
    "\n",
    "Generally, the free apps tend to be for entertainment purposes (games, social networking, photo, sports, etc.).\n",
    "\n",
    "Can you recommend an app profile for the App Store market based on this frequency table alone? If there's a large number of apps for a particular genre, does that also imply that apps of that genre generally have a large number of users?\n",
    "\n",
    "It's difficult for a few reasons:\n",
    "- while gaming apps are the most common by a long way, we'd have to make an app that distinguishes itself from the other large number of free gaming apps. \n",
    "- we would have to re-examine the data and see what the average number of users is for these gaming apps. They may be the most common, but we can't tell from this table whether they have the most users. \n",
    "- is The App Store dataset the most appropriate for researching free apps? It could be that the majority of customers are accustomed to paying for apps. \n",
    "\n",
    "\n",
    "## Analysis (ii): Google Play\n",
    "\n",
    "*What are the most common genres?*\n",
    "\n",
    "The most common genres are \"Family\" (19%), and Games (9%), and Tools (8%). \n",
    "\n",
    "*What other patterns do you see?*\n",
    "\n",
    "*Compare the patterns you see for the Google Play market with those you saw for the App Store market.*\n",
    "\n",
    "The two lists are not directly comparable. It's not clear what some genres represent (Google Play = \"Family\") if we try to think what might be a comparable genre on The App Store.\n",
    "On Google Play, genres like Business, Finance and Medical rate in the higher percentages of apps, rather than ranking at the bottom, as they do on The App Store. \n",
    "\n",
    "\n",
    "*Can you recommend an app profile based on what you found so far? Do the frequency tables you generated reveal the most frequent app genres or what genres have the most users?*\n",
    "\n",
    "It would be difficult to recommend an app based on this data alone. We would also have to examine number of users. "
   ]
  },
  {
   "cell_type": "markdown",
   "metadata": {},
   "source": [
    "## Most Popular Apps by Genre on the App Store\n",
    "\n",
    "The above helped us calculate which genre of apps was most common in each data set. However, it did not tell us how many users were using the apps (e.g. it could be that Games is the most common genre, but has the least amount of users). It would be interesting to know what the average numbers of users is per genre, so that we could get a clearer idea of which genre is the most popular. \n",
    "\n",
    "Since the App Store data set doesn't record number of installs of an app, we will use the next best thing to analyse this data set: the number of user ratings per app, in order to calculate the average number of user ratings per genre. \n",
    "\n",
    "To do this, I needed to: \n",
    "\n",
    "- Count the number of user ratings per app \n",
    "- Add this to a total (for one particular genre)\n",
    "- Count the number of apps belonging to a particular genre. \n",
    "- Divide the total number of user ratings per genre by the number of apps in that genre. \n",
    "\n",
    "I used a nested loop to do this. \n",
    "\n",
    "- First I got a complete list of genres (using freq_genre function).\n",
    "\n",
    "For loop 1:\n",
    "I looped through the complete set of genres. \n",
    "- I set `total` (the number of user ratings for the whole genre) at 0\n",
    "- I set `len_genre` (number of apps per genre) at 0. \n",
    "\n",
    "For loop 2:\n",
    "I looped through the apple dataset and every time the genre (`row[11]`) matched genre in the initial set, I:\n",
    "- recorded the number of user ratings \n",
    "- added the number of user ratings to the total for that genre\n",
    "- added 1 to `len_genre` (to count the number of apps in the genre) \n",
    "\n",
    "Then, under for loop 1, I divided total / len_genre to get the average number of user ratings for a particular genre. \n",
    "\n",
    "I printed each genre, together with the average number of user ratings for the genre, as well as the number of apps per genre. \n"
   ]
  },
  {
   "cell_type": "code",
   "execution_count": 27,
   "metadata": {},
   "outputs": [
    {
     "name": "stdout",
     "output_type": "stream",
     "text": [
      "Social Networking :  71548.34905660378 genre_count: 106\n",
      "Photo & Video :  28441.54375 genre_count: 160\n",
      "Games :  22788.6696905016 genre_count: 1874\n",
      "Music :  57326.530303030304 genre_count: 66\n",
      "Reference :  74942.11111111111 genre_count: 18\n",
      "Health & Fitness :  23298.015384615384 genre_count: 65\n",
      "Weather :  52279.892857142855 genre_count: 28\n",
      "Utilities :  18684.456790123455 genre_count: 81\n",
      "Travel :  28243.8 genre_count: 40\n",
      "Shopping :  26919.690476190477 genre_count: 84\n",
      "News :  21248.023255813954 genre_count: 43\n",
      "Navigation :  86090.33333333333 genre_count: 6\n",
      "Lifestyle :  16485.764705882353 genre_count: 51\n",
      "Entertainment :  14029.830708661417 genre_count: 254\n",
      "Food & Drink :  33333.92307692308 genre_count: 26\n",
      "Sports :  23008.898550724636 genre_count: 69\n",
      "Book :  39758.5 genre_count: 14\n",
      "Finance :  31467.944444444445 genre_count: 36\n",
      "Education :  7003.983050847458 genre_count: 118\n",
      "Productivity :  21028.410714285714 genre_count: 56\n",
      "Business :  7491.117647058823 genre_count: 17\n",
      "Catalogs :  4004.0 genre_count: 4\n",
      "Medical :  612.0 genre_count: 6\n"
     ]
    }
   ],
   "source": [
    "apple_genres = freq_table(apple_free,11)\n",
    "    \n",
    "for genre in apple_genres:\n",
    "    total = 0 \n",
    "    len_genre = 0\n",
    "    for row in apple_free:\n",
    "        genre_app = row[11]\n",
    "        if genre_app == genre:\n",
    "            num_ratings = float(row[5])\n",
    "            total += num_ratings\n",
    "            len_genre += 1\n",
    "    genre_avg = total / len_genre\n",
    "    print(genre,\": \",genre_avg, \"genre_count:\", len_genre)\n"
   ]
  },
  {
   "cell_type": "markdown",
   "metadata": {},
   "source": [
    " ### Analysis\n",
    "Navigation is the most popular genre in the App Store dataset of free apps. \n",
    "Social Networking is the second most popular genre. \n",
    "\n",
    "I was surprised by these results. Navigation only has six apps, yet the number of user ratings is very high. \n",
    "\n",
    "It may be tempting at this point to recommend a navigation-based app for the app store, since this type of free app seems encourage a popular response from users, but we may need to take a closer look at if one particular app in this genre is immensely popular over another, or if all of the navigation apps generally generate a popular response. "
   ]
  },
  {
   "cell_type": "markdown",
   "metadata": {},
   "source": [
    "## Most Popular Apps by Genre on Google Play\n",
    "\n",
    "The next step is to perform the same analysis of the Google Play data set, searching for the most popular genre of app, this time based on the number of installs of a particular app. \n",
    "\n",
    "The Google Play dataset doesn't supply a precise number for installs of a particular app, rather, it presents us with open-ended values (100+, 5,000+, 100,000,000+). \n",
    "\n",
    "However, we can still make use of this number because we can  use the figures to calculate an approximation of installs (e.g. we can simply assume 100+ = 100; 5,000+ = 5000, and use this to still get a good impression of popularity.) \n",
    "\n",
    "In order to do this, we will need to repeat the same nested loop code as above, but with additional steps to convert the data strings to floats. \n",
    "\n",
    "To calculate the average number of installs for a particular genre of app, I had to:\n",
    "\n",
    "- Count the number of user ratings per app\n",
    "- Add this to a total (for one particular genre)\n",
    "- Count the number of apps belonging to a particular genre.\n",
    "- Divide the total number of user ratings per genre by the number of apps in that genre.\n",
    "\n",
    "Using a nested loop, I:\n",
    "\n",
    "- First got a complete list of the Google Play categories (using the freq_genre function).\n",
    "\n",
    "For loop 1: \n",
    "- I looped through the complete set of categories.\n",
    "- I set total (which will be the number of installs for the whole category) at 0.\n",
    "- I set len_genre (number of apps per genre) at 0.\n",
    "\n",
    "For loop 2: \n",
    "- I looped through the Google Play (clean/free) dataset.\n",
    "- Every time the category (`row[1]`) matched category in the initial set, I:\n",
    "- recorded the installs value (a string)\n",
    "- used `str.replace(old, new)` to remove the '+' and ',' elements. \n",
    "- converted the value to a float\n",
    "- added this number to `total`\n",
    "- added 1 to `len_category` (to count the number of apps in the category)\n",
    "\n",
    "Then, under for loop 1, I divided total / len_category to get the average number of installs for a particular category.\n",
    "\n",
    "I printed each category, together with the average number of installs for the category, as well as the number of apps per category.\n"
   ]
  },
  {
   "cell_type": "code",
   "execution_count": 29,
   "metadata": {},
   "outputs": [
    {
     "name": "stdout",
     "output_type": "stream",
     "text": [
      "ART_AND_DESIGN : 1986335.0877192982 : 57\n",
      "AUTO_AND_VEHICLES : 647317.8170731707 : 82\n",
      "BEAUTY : 513151.88679245283 : 53\n",
      "BOOKS_AND_REFERENCE : 8767811.894736841 : 190\n",
      "BUSINESS : 1712290.1474201474 : 407\n",
      "COMICS : 817657.2727272727 : 55\n",
      "COMMUNICATION : 38456119.167247385 : 287\n",
      "DATING : 854028.8303030303 : 165\n",
      "EDUCATION : 1833495.145631068 : 103\n",
      "ENTERTAINMENT : 11640705.88235294 : 85\n",
      "EVENTS : 253542.22222222222 : 63\n",
      "FINANCE : 1387692.475609756 : 328\n",
      "FOOD_AND_DRINK : 1924897.7363636363 : 110\n",
      "HEALTH_AND_FITNESS : 4188821.9853479853 : 273\n",
      "HOUSE_AND_HOME : 1331540.5616438356 : 73\n",
      "LIBRARIES_AND_DEMO : 638503.734939759 : 83\n",
      "LIFESTYLE : 1437816.2687861272 : 346\n",
      "GAME : 15588015.603248259 : 862\n",
      "FAMILY : 3695641.8198090694 : 1676\n",
      "MEDICAL : 120550.61980830671 : 313\n",
      "SOCIAL : 23253652.127118643 : 236\n",
      "SHOPPING : 7036877.311557789 : 199\n",
      "PHOTOGRAPHY : 17840110.40229885 : 261\n",
      "SPORTS : 3638640.1428571427 : 301\n",
      "TRAVEL_AND_LOCAL : 13984077.710144928 : 207\n",
      "TOOLS : 10801391.298666667 : 750\n",
      "PERSONALIZATION : 5201482.6122448975 : 294\n",
      "PRODUCTIVITY : 16787331.344927534 : 345\n",
      "PARENTING : 542603.6206896552 : 58\n",
      "WEATHER : 5074486.197183099 : 71\n",
      "VIDEO_PLAYERS : 24727872.452830188 : 159\n",
      "NEWS_AND_MAGAZINES : 9549178.467741935 : 248\n",
      "MAPS_AND_NAVIGATION : 4056941.7741935486 : 124\n"
     ]
    }
   ],
   "source": [
    "google_category = freq_table(google_free,1)\n",
    "\n",
    "for category in google_category:\n",
    "    total = 0\n",
    "    len_category = 0\n",
    "    for row in google_free:\n",
    "        category_app = row[1]\n",
    "        if category_app == category:\n",
    "            n_installs = row[5]\n",
    "            n_installs = n_installs.replace('+','')\n",
    "            n_installs = n_installs.replace(',','')\n",
    "            n_installs = float(n_installs)\n",
    "            total += n_installs\n",
    "            len_category += 1\n",
    "    avg_installs = total/len_category\n",
    "    print(category, ':', avg_installs, ':', len_category)\n",
    "    "
   ]
  },
  {
   "cell_type": "markdown",
   "metadata": {},
   "source": [
    "### Analysis:\n",
    "\n",
    "The most popular categories of free apps on Google Play are: \n",
    "- Communication\n",
    "- Video Players\n",
    "- Social Media\n",
    "\n",
    "The Communication category generally represents messaging and email apps. It is dominated by apps such as Whatsapp and Gmail:\n"
   ]
  },
  {
   "cell_type": "code",
   "execution_count": 36,
   "metadata": {},
   "outputs": [
    {
     "name": "stdout",
     "output_type": "stream",
     "text": [
      "['WhatsApp Messenger', '1,000,000,000+', 'Messenger for SMS', '10,000,000+', 'My Tele2', '5,000,000+', 'imo beta free calls and text', '100,000,000+', 'Contacts', '50,000,000+', 'Call Free – Free Call', '5,000,000+', 'Web Browser & Explorer', '5,000,000+', 'Browser 4G', '10,000,000+', 'MegaFon Dashboard', '10,000,000+', 'ZenUI Dialer & Contacts', '10,000,000+', 'Cricket Visual Voicemail', '10,000,000+', 'TracFone My Account', '1,000,000+', 'Xperia Link™', '10,000,000+', 'TouchPal Keyboard - Fun Emoji & Android Keyboard', '10,000,000+', 'Skype Lite - Free Video Call & Chat', '5,000,000+', 'My magenta', '1,000,000+', 'Android Messages', '100,000,000+', 'Google Duo - High Quality Video Calls', '500,000,000+', 'Seznam.cz', '1,000,000+', 'Antillean Gold Telegram (original version)', '100,000+', 'AT&T Visual Voicemail', '10,000,000+', 'GMX Mail', '10,000,000+', 'Omlet Chat', '10,000,000+', 'My Vodacom SA', '5,000,000+', 'Microsoft Edge', '5,000,000+', 'Messenger – Text and Video Chat for Free', '1,000,000,000+', 'imo free video calls and chat', '500,000,000+', 'Calls & Text by Mo+', '5,000,000+', 'free video calls and chat', '50,000,000+', 'Skype - free IM & video calls', '1,000,000,000+', 'Who', '100,000,000+', 'GO SMS Pro - Messenger, Free Themes, Emoji', '100,000,000+', 'Messaging+ SMS, MMS Free', '1,000,000+', 'chomp SMS', '10,000,000+', 'Glide - Video Chat Messenger', '10,000,000+', 'Text SMS', '10,000,000+', 'Talkray - Free Calls & Texts', '10,000,000+', 'LINE: Free Calls & Messages', '500,000,000+', 'GroupMe', '10,000,000+', 'mysms SMS Text Messaging Sync', '1,000,000+', '2ndLine - Second Phone Number', '1,000,000+', 'Google Chrome: Fast & Secure', '1,000,000,000+', 'Firefox Browser fast & private', '100,000,000+', 'Ninesky Browser', '1,000,000+', 'Dolphin Browser - Fast, Private & Adblock🐬', '50,000,000+', 'UC Browser - Fast Download Private & Secure', '500,000,000+', 'Ghostery Privacy Browser', '1,000,000+', 'InBrowser - Incognito Browsing', '1,000,000+', 'Lightning Web Browser', '500,000+', 'Web Browser', '500,000+', 'Contacts+', '10,000,000+', 'ExDialer - Dialer & Contacts', '10,000,000+', 'PHONE for Google Voice & GTalk', '1,000,000+', 'Safest Call Blocker', '1,000,000+', 'Full Screen Caller ID', '5,000,000+', 'Hiya - Caller ID & Block', '10,000,000+', 'Mr. Number-Block calls & spam', '10,000,000+', 'Should I Answer?', '1,000,000+', 'RocketDial Dialer & Contacts', '1,000,000+', 'CIA - Caller ID & Call Blocker', '5,000,000+', 'Calls Blacklist - Call Blocker', '10,000,000+', 'Call Control - Call Blocker', '5,000,000+', 'True Contact - Real Caller ID', '1,000,000+', 'Video Caller Id', '1,000,000+', 'Sync.ME – Caller ID & Block', '5,000,000+', 'Burner - Free Phone Number', '1,000,000+', 'Caller ID +', '1,000,000+', 'Gmail', '1,000,000,000+', 'K-9 Mail', '5,000,000+', 'myMail – Email for Hotmail, Gmail and Outlook Mail', '10,000,000+', 'Email TypeApp - Mail App', '1,000,000+', 'All Email Providers', '1,000,000+', 'Newton Mail - Email App for Gmail, Outlook, IMAP', '1,000,000+', 'GO Notifier', '10,000,000+', 'Mail.Ru - Email App', '50,000,000+', 'Mail1Click - Secure Mail', '10,000+', 'Daum Mail - Next Mail', '5,000,000+', 'mail.com mail', '1,000,000+', 'SolMail - All-in-One email app', '500,000+', 'Hangouts', '1,000,000,000+', 'Vonage Mobile® Call Video Text', '1,000,000+', 'JusTalk - Free Video Calls and Fun Video Chat', '5,000,000+', 'Azar', '50,000,000+', 'LokLok: Draw on a Lock Screen', '500,000+', 'Discord - Chat for Gamers', '10,000,000+', 'Messenger Lite: Free Calls & Messages', '100,000,000+', 'AntennaPict β', '1,000,000+', 'Talkatone: Free Texts, Calls & Phone Number', '10,000,000+', 'Kik', '100,000,000+', 'K-@ Mail - Email App', '100,000+', 'KakaoTalk: Free Calls & Text', '100,000,000+', 'K-9 Material (unofficial)', '5,000+', 'M star Dialer', '100,000+', 'Free WiFi Connect', '10,000,000+', 'm:go BiH', '10,000+', 'N-Com Wizard', '50,000+', 'Opera Mini - fast web browser', '100,000,000+', 'Opera Browser: Fast and Secure', '100,000,000+', 'Opera Mini browser beta', '10,000,000+', 'Psiphon Pro - The Internet Freedom VPN', '10,000,000+', 'ICQ — Video Calls & Chat Messenger', '10,000,000+', 'Telegram', '100,000,000+', 'AT&T Messages for Tablet', '1,000,000+', 'T-Mobile DIGITS', '100,000+', 'Truecaller: Caller ID, SMS spam blocking & Dialer', '100,000,000+', 'Portable Wi-Fi hotspot', '10,000,000+', 'AT&T Call Protect', '5,000,000+', 'U - Webinars, Meetings & Messenger', '500,000+', 'UC Browser Mini -Tiny Fast Private & Secure', '100,000,000+', '/u/app', '10,000+', '[verify-U] VideoIdent', '10,000+', 'Viber Messenger', '500,000,000+', 'WeChat', '100,000,000+', 'WhatsApp Business', '10,000,000+', 'WhatsCall Free Global Phone Call App & Cheap Calls', '10,000,000+', 'X Browser', '50,000+', 'Yahoo Mail – Stay Organized', '100,000,000+', 'Free Adblocker Browser - Adblock & Popup Blocker', '10,000,000+', 'Adblock Browser for Android', '10,000,000+', 'CM Browser - Ad Blocker , Fast Download , Privacy', '50,000,000+', 'Adblock Plus for Samsung Internet - Browse safe.', '1,000,000+', 'Ad Blocker Turbo - Adblocker Browser', '10,000+', 'Brave Browser: Fast AdBlocker', '5,000,000+', 'AG Contacts, Lite edition', '5,000+', 'Oklahoma Ag Co-op Council', '10+', \"Bee'ah Employee App\", '100+', 'tournaments and more.aj.2', '100+', 'Aj.Petra', '100+', 'AK Phone', '5,000+', 'PlacarTv Futebol Ao Vivo', '100,000+', 'WiFi Access Point (hotspot)', '100,000+', 'Access Point Names', '10,000+', 'Puffin Web Browser', '10,000,000+', 'ClanHQ', '10,000+', 'Ear Agent: Super Hearing', '5,000,000+', 'Google Voice', '10,000,000+', 'Google Allo', '10,000,000+', 'AU Call Blocker - Block Unwanted Calls Texts 2018', '1,000+', 'Baby Monitor AV', '100,000+', 'AV Phone', '1,000+', 'AW - free video calls and chat', '1,000,000+', 'Katalogen.ax', '100+', 'AZ Browser. Private & Download', '100,000+', 'BA SALES', '1+', 'BD Data Plan (3G & 4G)', '500,000+', 'BD Internet Packages (Updated)', '50,000+', 'BD Dialer', '10,000+', 'BD Live Call', '5,000+', 'Best Browser BD social networking', '10+', 'Traffic signs BD', '500+', 'BF Browser by Betfilter - Stop Gambling Today!', '10,000+', 'My BF App', '50,000+', 'BH Mail', '1,000+', 'Zalo – Video Call', '50,000,000+', 'BJ - Confidential', '10+', 'BK Chat', '1,000+', 'Of the wall Arapaho bk', '5+', 'AC-BL', '50+', 'BBM - Free Calls & Messages', '100,000,000+', 'DMR BrandMeister Tool', '10,000+', 'BBMoji - Your personalized BBM Stickers', '1,000,000+', 'BN MALLORCA Radio', '1,000+', 'BQ Partners', '1,000+', 'BS-Mobile', '50+', 'ATC Unico BS', '500+', 'BT One Voice mobile access', '5,000+', 'BT Messenger', '50,000+', 'BT One Phone Mobile App', '10,000+', 'SW-100.tch by Callstel', '1,000,000+', 'BT MeetMe with Dolby Voice', '100,000+', 'Bluetooth Auto Connect', '5,000,000+', 'AudioBT: BT audio GPS/SMS/Text', '50,000+', 'BV', '100+', 'Feel Performer', '10,000+', 'Tiny Call Confirm', '1,000,000+', 'CB Radio Chat - for friends!', '1,000,000+', 'CB On Mobile', '100,000+', 'Virtual Walkie Talkie', '1,000,000+', 'Channel 19', '100,000+', 'Cb browser', '50+', 'CF Chat: Connecting Friends', '100+', 'retteMi.ch', '5,000+', 'Chrome Dev', '5,000,000+', 'CJ Browser - Fast & Private', '100+', 'CJ DVD Rentals', '100+', 'CK Call NEW', '10+', 'CM Transfer - Share any files with friends nearby', '5,000,000+', 'mail.co.uk Mail', '5,000+', 'ClanPlay: Community and Tools for Gamers', '1,000,000+', 'CQ-Mobile', '1,000+', 'CQ-Alert', '500+', 'QRZ Assistant', '100,000+', 'Pocket Prefix Plus', '10,000+', 'Ham Radio Prefixes', '10,000+', 'CS Customizer', '1,000+', 'CS Browser | #1 & BEST BROWSER', '1,000+', 'CS Browser Beta', '5,000+', 'My Vodafone (GR)', '1,000,000+', 'IZ2UUF Morse Koch CW', '50,000+', 'C W Browser', '100+', 'CW Bluetooth SPP', '100+', 'CW BLE Peripheral Simulator', '500+', 'Morse Code Reader', '100,000+', 'Learn Morse Code - G0HYN Learn Morse', '5,000+', 'Ring', '10,000+', 'Hyundai CX Conference', '50+', 'Cy Messenger', '100+', 'Amadeus GR & CY', '100+', 'Hlášenírozhlasu.cz', '10+', 'SMS Sender - sluzba.cz', '1,000+', 'WEB.DE Mail', '10,000,000+', 'Your Freedom VPN Client', '5,000,000+', 'CallApp: Caller ID, Blocker & Phone Call Recorder', '10,000,000+', 'Rádio Sol Nascente DF', '500+', 'DG Card', '100+', 'Whoscall - Caller ID & Block', '10,000,000+', 'DK Browser', '10+', 'cluster.dk', '1,000+', 'DK TEL Dialer', '50+', 'DM for WhatsApp', '5,000+', 'DM Talk New', '5,000+', 'DM - The Offical Messaging App', '10+', 'DM Tracker', '1,000+', 'Call Blocker & Blacklist', '1,000+', 'ReadyOp DT', '1,000+', 'DU Browser—Browse fast & fun', '10,000,000+', 'Caller ID & Call Block - DU Caller', '5,000,000+', 'BlueDV AMBE', '1,000+', 'DW Contacts & Phone & Dialer', '1,000,000+', 'Deaf World DW', '10,000+', 'Ham DX Cluster & Spots Finder', '5,000+', 'Mircules DX Cluster Lite', '5,000+', '3G DZ Configuration', '50,000+', 'chat dz', '100+', 'love sms good morning', '5,000+', 'Goodbox - Mega App', '100,000+', 'Call Blocker - Blacklist, SMS Blocker', '1,000,000+', '[EF]ShoutBox', '100+', 'Eg Call', '10,000+', 'ei', '10+', 'EJ messenger', '10+', 'Ek IRA', '10+', 'Orfox: Tor Browser for Android', '10,000,000+', 'EO Mumbai', '10+', 'EP RSS Reader', '100+', 'Voxer Walkie Talkie Messenger', '10,000,000+', 'ES-1', '500+', 'Hangouts Dialer - Call Phones', '10,000,000+', 'EU Council', '1,000+', 'Council Voting Calculator', '5,000+', 'Have your say on Europe', '500+', 'Programi podrške EU', '100+', 'Inbox.eu', '10,000+', 'Web Browser for Android', '1,000,000+', 'Everbridge', '100,000+', 'Best Auto Call Recorder Free', '500+', 'EZ Wifi Notification', '10,000+', 'Test Server SMS FA', '5+', 'Lite for Facebook Messenger', '1,000,000+', 'FC Browser - Focus Privacy Browser', '1,000+', 'EHiN-FH conferenceapp', '100+', 'Carpooling FH Hagenberg', '100+', 'Wi-Fi Auto-connect', '1,000,000+', 'Talkie - Wi-Fi Calling, Chats, File Sharing', '500,000+', 'WeFi - Free Fast WiFi Connect & Find Wi-Fi Map', '1,000,000+', 'Sat-Fi', '5,000+', 'Portable Wi-Fi hotspot Free', '100,000+', 'TownWiFi | Wi-Fi Everywhere', '500,000+', 'Jazz Wi-Fi', '10,000+', 'Sat-Fi Voice', '1,000+', 'Free Wi-fi HotspoT', '50,000+', 'FN Web Radio', '10+', 'FNH Payment Info', '10+', 'MARKET FO', '100+', 'FO OP St-Nazaire', '100+', 'FO SODEXO', '100+', 'FO RCBT', '100+', 'FO Interim', '100+', 'FO PSA Sept-Fons', '100+', 'FO AIRBUS TLSE', '1,000+', 'FO STELIA Méaulte', '100+', 'FO AIRBUS Nantes', '100+', 'Firefox Focus: The privacy browser', '1,000,000+', 'FP Connect', '100+', 'FreedomPop Messaging Phone/SIM', '500,000+', 'FP Live', '10+', 'HipChat - beta version', '50,000+']\n"
     ]
    }
   ],
   "source": [
    "comms_list = []\n",
    "\n",
    "for row in google_free:\n",
    "    category = row[1]\n",
    "    name = row[0]\n",
    "    installs = row[5]\n",
    "    if category == 'COMMUNICATION':\n",
    "        comms_list.append(name)\n",
    "        comms_list.append(installs)\n",
    "print(comms_list)"
   ]
  },
  {
   "cell_type": "markdown",
   "metadata": {},
   "source": [
    "A category that is less dominated by a few major players is Shopping:"
   ]
  },
  {
   "cell_type": "code",
   "execution_count": 58,
   "metadata": {},
   "outputs": [
    {
     "name": "stdout",
     "output_type": "stream",
     "text": [
      "Amazon for Tablets : 10,000,000+\n",
      "OfferUp - Buy. Sell. Offer Up : 10,000,000+\n",
      "Shopee - No. 1 Online Shopping : 10,000,000+\n",
      "Shopee: No.1 Online Shopping : 10,000,000+\n",
      "Kroger : 5,000,000+\n",
      "Walmart : 10,000,000+\n",
      "eBay: Buy & Sell this Summer - Discover Deals Now! : 100,000,000+\n",
      "letgo: Buy & Sell Used Stuff, Cars & Real Estate : 50,000,000+\n",
      "Amazon Shopping : 100,000,000+\n",
      "Lazada - Online Shopping & Deals : 50,000,000+\n",
      "OLX - Buy and Sell : 50,000,000+\n",
      "The wall : 1,000,000+\n",
      "Flipp - Weekly Shopping : 10,000,000+\n",
      "Shrimp skin shopping: spend less, buy better : 5,000,000+\n",
      "Lotte Home Shopping LOTTE Homeshopping : 5,000,000+\n",
      "Horn, free country requirements : 1,000,000+\n",
      "Jiji.ng : 1,000,000+\n",
      "GS SHOP : 10,000,000+\n",
      "The birth : 50,000,000+\n",
      "Home & Shopping - Only in apps. 10% off + 10% off : 10,000,000+\n",
      "EHS Dongsen Shopping : 1,000,000+\n",
      "bigbasket - online grocery : 5,000,000+\n",
      "Bukalapak - Buy and Sell Online : 10,000,000+\n",
      "Life market : 1,000,000+\n",
      "Jabong Online Shopping App : 10,000,000+\n",
      "Family Dollar : 1,000,000+\n",
      "Jumia online shopping : 10,000,000+\n",
      "Mercado Libre: Find your favorite brands : 50,000,000+\n",
      "Carousell: Snap-Sell, Chat-Buy : 10,000,000+\n",
      "Blibli.com Online Shopping : 10,000,000+\n",
      "Club Factory Everything, Unbeaten Price : 10,000,000+\n",
      "Real Estate, Car, Shopping and Others : 10,000,000+\n",
      "ZALORA Fashion Shopping : 10,000,000+\n",
      "Magazine Luiza Online Shopping : 10,000,000+\n",
      "ROMWE - Women's Fashion : 10,000,000+\n",
      "Buscapé - Offers and discounts : 10,000,000+\n",
      "Myntra Online Shopping App : 50,000,000+\n",
      "11st : 10,000,000+\n",
      "Coupang : 10,000,000+\n",
      "Wemep - Special price representative (special / shopping / shopping app / coupon / shipping) : 10,000,000+\n",
      "Target - now with Cartwheel : 10,000,000+\n",
      "Flipkart Online Shopping App : 100,000,000+\n",
      "Sam's Club: Wholesale Shopping & Instant Savings : 5,000,000+\n",
      "Chilindo : 1,000,000+\n",
      "Rossmann PL : 5,000,000+\n",
      "Jingdong - pick good things, go to Jingdong : 1,000,000+\n",
      "CheckPoints 🏆 Rewards App : 1,000,000+\n",
      "Extreme Coupon Finder : 1,000,000+\n",
      "SnipSnap Coupon App : 1,000,000+\n",
      "Checkout 51: Grocery coupons : 10,000,000+\n",
      "Coupon Sherpa : 500,000+\n",
      "Gyft - Mobile Gift Card Wallet : 500,000+\n",
      "SavingStar - Grocery Coupons : 1,000,000+\n",
      "The Coupons App : 10,000,000+\n",
      "Shopkick: Free Gift Cards, Shop Rewards & Deals : 10,000,000+\n",
      "Key Ring: Cards Coupon & Sales : 1,000,000+\n",
      "Ibotta: Cash Back Savings, Rewards & Coupons App : 10,000,000+\n",
      "RetailMeNot - Coupons, Deals & Discount Shopping : 10,000,000+\n",
      "Kohl's: Scan, Shop, Pay & Save : 5,000,000+\n",
      "Stocard - Rewards Cards Wallet : 10,000,000+\n",
      "Nike : 1,000,000+\n",
      "Poshmark - Buy & Sell Fashion : 10,000,000+\n",
      "Mercari: The Selling App : 10,000,000+\n",
      "Blidz - Hunt Free Deals On Trending Items! : 50,000+\n",
      "Shopular: Coupons, Weekly Ads & Shopping Deals : 1,000,000+\n",
      "LivingSocial - Local Deals : 5,000,000+\n",
      "Coupons.com – Grocery Coupons & Cash Back Savings : 1,000,000+\n",
      "Ebates: Cash Back, Coupons, Rewards & Savings : 1,000,000+\n",
      "FidMe Loyalty Cards & Deals at Grocery Supermarket : 1,000,000+\n",
      "Ratings by Consumer Reports : 100,000+\n",
      "HauteLook : 500,000+\n",
      "Nordstrom : 500,000+\n",
      "Modcloth – Unique Indie Women's Fashion & Style : 500,000+\n",
      "Fancy : 5,000,000+\n",
      "Twice: Buy, Sell Clothing : 100,000+\n",
      "Slice: Package Tracker : 1,000,000+\n",
      "LightInTheBox Online Shopping : 5,000,000+\n",
      "Best Buy : 5,000,000+\n",
      "JackThreads: Men's Shopping : 1,000,000+\n",
      "zulily - Shop Daily Deals in Fashion and Home : 1,000,000+\n",
      "MiniInTheBox Online Shopping : 1,000,000+\n",
      "Zappos – Shoe shopping made simple : 5,000,000+\n",
      "Urban Outfitters : 500,000+\n",
      "Tophatter - 90 Second Auctions : 10,000,000+\n",
      "Shopfully - Weekly Ads & Deals : 10,000,000+\n",
      "Wanelo Shopping : 1,000,000+\n",
      "Etsy: Handmade & Vintage Goods : 10,000,000+\n",
      "Overstock – Home Decor, Furniture Shopping : 1,000,000+\n",
      "Find&Save - Local Shopping : 500,000+\n",
      "Receipt Hog - Receipts to Cash : 1,000,000+\n",
      "ShopSavvy Barcode & QR Scanner : 10,000,000+\n",
      "Savory - Deals,Freebies,Sales : 100,000+\n",
      "AliExpress - Smarter Shopping, Better Living : 100,000,000+\n",
      "Newegg Mobile : 1,000,000+\n",
      "REI – Shop Outdoor Gear : 100,000+\n",
      "The Home Depot : 5,000,000+\n",
      "Wish - Shopping Made Fun : 100,000,000+\n",
      "Boxed Wholesale : 1,000,000+\n",
      "La La-Shop Designer Brands Street : 500,000+\n",
      "ASOS : 10,000,000+\n",
      "CL Mobile - Classifieds for Craigslist : 1,000,000+\n",
      "CIRCLE K : 500,000+\n",
      "SPEED L : 50,000+\n",
      "Shop 'n Save : 100,000+\n",
      "O Shopping : 100,000+\n",
      "R Studio : 5,000+\n",
      "AB Click2Shop : 100,000+\n",
      "AE + Aerie: Jeans, Dresses, Swimsuits & Bralettes : 1,000,000+\n",
      "AE Checkout Plugin : 10,000+\n",
      "Bazar.af : 500+\n",
      "AzadBazar.af : 100+\n",
      "All States Ag Parts : 10,000+\n",
      "AJ RETAILS : 10+\n",
      "AJ Percent Off Calculator : 10,000+\n",
      "AJ Nails Supply : 100+\n",
      "Wayfair - Shop All Things Home : 5,000,000+\n",
      "A-Y Collection : 100+\n",
      "ePazar.bg : 1,000+\n",
      "Remix Second Hand : 100,000+\n",
      "Grabo.bg : 100,000+\n",
      "B&H Photo Video Pro Audio : 1,000,000+\n",
      "BJ's Wholesale Club : 100,000+\n",
      "BJ’s Mobile App : 500,000+\n",
      "BJ's Express Scan : 10,000+\n",
      "BJ Toys : 500+\n",
      "BL Flowers Digital : 100+\n",
      "B&M Stores : 100,000+\n",
      "BM CRM : 5+\n",
      "postit.bm : 500+\n",
      "My College Bookstore : 100,000+\n",
      "Compas BP Store : 10+\n",
      "IKEA Store : 10,000,000+\n",
      "Bar BQ Night Middlesbrough : 100+\n",
      "4-T's Bar-BQ & Catering : 10+\n",
      "GearBest Online Shopping : 5,000,000+\n",
      "BU Bookstore : 1,000+\n",
      "Hilverda De Boer B.V. App : 500+\n",
      "Schulman B.V. : 100+\n",
      "OLX Uganda Sell Buy Cellphones : 100,000+\n",
      "GITZ.bz : 10+\n",
      "BZ Delivery : 500+\n",
      "ePN Cashback AliExpress : 500,000+\n",
      "Save.ca : 100,000+\n",
      "C.B. Shop : 100+\n",
      "tutti.ch - Free Classifieds : 500,000+\n",
      "ricardo.ch : 500,000+\n",
      "Annonces.ci : 1,000+\n",
      "CJ WOW SHOP : 100,000+\n",
      "CJmall : 10,000,000+\n",
      "Calvin Klein – US Store : 50,000+\n",
      "ck-modelcars Shop : 5,000+\n",
      "ck-modelcars-UK Shop : 5,000+\n",
      "CK Multimedia - Gaming Accessories : 500+\n",
      "CL Mobile Pro - Classifieds for Craigslist : 100,000+\n",
      "CL Pro App for Craigslist : 10,000+\n",
      "CL Pro Client for Craigslist : 5,000+\n",
      "Pro App for Craigslist : 500,000+\n",
      "cPro Marketplace: Buy. Sell. Rent. Date. Jobs. : 10,000,000+\n",
      "Postings (Craigslist Search App) : 5,000,000+\n",
      "Foods Co : 10,000+\n",
      "Co-op Connections : 1,000+\n",
      "Dine In CT - Food Delivery : 1,000+\n",
      "Eshopcy.com.cy : 5,000+\n",
      "CY Digital Net : 500+\n",
      "foody Cyprus - online ordering : 10,000+\n",
      "Šmelina .cz inzeráty inzerce : 10,000+\n",
      "Alzashop.com : 500,000+\n",
      "Strava.cz : 100,000+\n",
      "Dollar General - Digital Coupons, Ads And More : 5,000,000+\n",
      "DG Coupon : 100,000+\n",
      "DG - Digital Coupons - Free Coupon and Discount : 10,000+\n",
      "Krazy Coupon Lady : 1,000,000+\n",
      "Go Go Coupons - Free Coupon and Discount : 1,000+\n",
      "Sharaf DG : 500,000+\n",
      "Coupon Mob - Discount Coupons : 100+\n",
      "DG OFF - 100% Free Coupons & Deals : 10+\n",
      "DHgate-Shop Wholesale Prices : 5,000,000+\n",
      "Shopee: No.1 Belanja Online : 10,000,000+\n",
      "DM Collection : 100+\n",
      "Find Fast Food : 100,000+\n",
      "DT CLOTHINGS : 10+\n",
      "DT Technologies : 10+\n",
      "DTPay : 1,000+\n",
      "DX : 500,000+\n",
      "DZ Mobile Market : 10,000+\n",
      "DZ PROMOS - Promotions & Sale Alerts in Algeria : 50,000+\n",
      "Ouedkniss : 1,000,000+\n",
      "dekoreko-dz : 500+\n",
      "eBay Kleinanzeigen for Germany : 10,000,000+\n",
      "EP Mobil : 100+\n",
      "Groupon - Shop Deals, Discounts & Coupons : 50,000,000+\n",
      "TattooSupplies.eu : 1,000+\n",
      "efootwear.eu - online store : 100,000+\n",
      "E.W. James & Sons : 500+\n",
      "Tenh Ey : 10+\n",
      "FirstCry Baby & Kids Shopping, Fashion & Parenting : 5,000,000+\n",
      "WICShopper : 500,000+\n",
      "Lalafo Pulsuz Elanlar : 1,000,000+\n",
      "Slickdeals: Coupons & Shopping : 1,000,000+\n"
     ]
    }
   ],
   "source": [
    "for app in google_free:\n",
    "   if app[1] == 'SHOPPING':\n",
    "    print(app[0], ':', app[5])"
   ]
  },
  {
   "cell_type": "markdown",
   "metadata": {},
   "source": [
    "Some of these apps are based on huge retailers (Amazon, Walmart, IKEA) that have a physical presence or warehouse, which wouldn't be suitable for our purposes, but others serve to link shoppers to online or independent sellers (eBay, ASOS, MarketPlace). \n",
    "\n",
    "One possible recommendation would be for an app that links up shopper/user with a seller/service-provider based on local location, working for people who are keen to support local independent businesses and who are interested in shopping \"green\". "
   ]
  },
  {
   "cell_type": "code",
   "execution_count": null,
   "metadata": {},
   "outputs": [],
   "source": []
  }
 ],
 "metadata": {
  "kernelspec": {
   "display_name": "Python 3",
   "language": "python",
   "name": "python3"
  },
  "language_info": {
   "codemirror_mode": {
    "name": "ipython",
    "version": 3
   },
   "file_extension": ".py",
   "mimetype": "text/x-python",
   "name": "python",
   "nbconvert_exporter": "python",
   "pygments_lexer": "ipython3",
   "version": "3.8.2"
  }
 },
 "nbformat": 4,
 "nbformat_minor": 2
}
